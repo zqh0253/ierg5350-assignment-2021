{
 "cells": [
  {
   "cell_type": "markdown",
   "metadata": {},
   "source": [
    "# IERG 5350 Assignment 0: Jupyter Notebook usage and assignment submission workflow\n",
    "\n",
    "\n",
    "------\n",
    "\n",
    "*2021-2022 1st term, IERG 5350: Reinforcement Learning. Department of Information Engineering, The Chinese University of Hong Kong. Course Instructor: Professor ZHOU Bolei. Assignment author: PENG Zhenghao.*"
   ]
  },
  {
   "cell_type": "markdown",
   "metadata": {},
   "source": [
    "You are asked to finish three tasks:\n",
    "\n",
    "1. Fill in your name and student ID in the next cell.\n",
    "2. Run the following cells and save this notebook **as a PDF file**.\n",
    "3. Compress this folder `assignment0` **as a ZIP file** and submit **the PDF file and the ZIP file** in the blackboard.\n",
    "\n",
    "**This assignment is due by Sunday, September 19, 23:59.**"
   ]
  },
  {
   "cell_type": "code",
   "execution_count": 1,
   "metadata": {
    "pycharm": {
     "name": "#%%\n"
    }
   },
   "outputs": [],
   "source": [
    "my_name = \"Qihang ZHANG, 章启航\"\n",
    "my_student_id = \"1155165194\""
   ]
  },
  {
   "cell_type": "code",
   "execution_count": 2,
   "metadata": {
    "pycharm": {
     "name": "#%%\n"
    }
   },
   "outputs": [
    {
     "name": "stdout",
     "output_type": "stream",
     "text": [
      "Oh, I finished this assignment! I am Qihang ZHANG, 章启航 (1155165194)\n"
     ]
    }
   ],
   "source": [
    "# Run this cell without modification\n",
    "\n",
    "text = \"Oh, I finished this assignment! I am {} ({})\".format(my_name, my_student_id)\n",
    "print(text)\n",
    "with open(\"{}.txt\".format(text), \"w\") as f:\n",
    "    f.write(text)"
   ]
  },
  {
   "cell_type": "code",
   "execution_count": null,
   "metadata": {
    "pycharm": {
     "name": "#%%\n"
    }
   },
   "outputs": [],
   "source": []
  }
 ],
 "metadata": {
  "kernelspec": {
   "display_name": "Python 3",
   "language": "python",
   "name": "python3"
  },
  "language_info": {
   "codemirror_mode": {
    "name": "ipython",
    "version": 3
   },
   "file_extension": ".py",
   "mimetype": "text/x-python",
   "name": "python",
   "nbconvert_exporter": "python",
   "pygments_lexer": "ipython3",
   "version": "3.8.8"
  }
 },
 "nbformat": 4,
 "nbformat_minor": 4
}
